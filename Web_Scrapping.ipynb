{
 "cells": [
  {
   "cell_type": "markdown",
   "id": "524f9bc4",
   "metadata": {},
   "source": [
    "Task 1:download video with python "
   ]
  },
  {
   "cell_type": "code",
   "execution_count": 35,
   "id": "f3c9d4ec",
   "metadata": {},
   "outputs": [],
   "source": [
    "from pytube import YouTube "
   ]
  },
  {
   "cell_type": "code",
   "execution_count": 7,
   "id": "5f3cc0cd",
   "metadata": {},
   "outputs": [
    {
     "data": {
      "text/plain": [
       "'C:\\\\Users\\\\dell\\\\كانت الرحلة ارهاقا وصبراً.3gpp'"
      ]
     },
     "execution_count": 7,
     "metadata": {},
     "output_type": "execute_result"
    }
   ],
   "source": [
    "myvideo = YouTube(\"https://www.youtube.com/watch?v=DilWe9-HyxY\").streams.first()\n",
    "myvideo.download()"
   ]
  },
  {
   "cell_type": "markdown",
   "id": "b72a5eb3",
   "metadata": {},
   "source": [
    "Task 2:Scrapping image "
   ]
  },
  {
   "cell_type": "code",
   "execution_count": 8,
   "id": "2241631b",
   "metadata": {},
   "outputs": [],
   "source": [
    "import requests\n",
    "from bs4 import BeautifulSoup\n",
    "import os"
   ]
  },
  {
   "cell_type": "code",
   "execution_count": 20,
   "id": "bc2a4d49",
   "metadata": {},
   "outputs": [],
   "source": [
    "response = requests.get(\"https://www.springboard.com/blog/wp-content/uploads/2022/03/why-learn-ai-1536x1024.jpg\")\n",
    "\n",
    "file = open(\"sample_image.png\", \"wb\")\n",
    "file.write(response.content)\n",
    "file.close()"
   ]
  },
  {
   "cell_type": "code",
   "execution_count": 21,
   "id": "114c710e",
   "metadata": {},
   "outputs": [
    {
     "name": "stdout",
     "output_type": "stream",
     "text": [
      "https://res.cloudinary.com/springboard-images/image/upload/v1547720595/homepage-assets/icons/dark-light-box-cross.svg\n",
      "https://res.cloudinary.com/springboard-images/image/upload/v1549599728/homepage-assets/icons/gun-arrow-right.svg\n",
      "https://res.cloudinary.com/springboard-images/image/upload/v1549599730/homepage-assets/icons/gun-arrow-left.svg\n",
      "https://res.cloudinary.com/springboard-images/image/upload/v1549599728/homepage-assets/icons/gun-arrow-right.svg\n",
      "https://res.cloudinary.com/springboard-images/image/upload/v1549599730/homepage-assets/icons/gun-arrow-left.svg\n",
      "https://res.cloudinary.com/springboard-images/image/upload/v1549599728/homepage-assets/icons/gun-arrow-right.svg\n",
      "https://res.cloudinary.com/springboard-images/image/upload/v1549599730/homepage-assets/icons/gun-arrow-left.svg\n",
      "https://secure.gravatar.com/avatar/b71837a7e5662c0d6168f35c4fbfc043?s=32&d=mm&r=g\n",
      "https://www.springboard.com/blog/wp-content/uploads/2022/03/why-learn-ai-scaled.jpg\n",
      "https://www.springboard.com/blog/wp-content/uploads/2022/03/what-is-artificial-intelligence.png\n",
      "https://www.springboard.com/blog/wp-content/uploads/2022/03/8-steps-for-effectively-learning-ai-scaled.jpg\n",
      "https://www.springboard.com/blog/wp-content/uploads/2022/03/mathematics.jpg\n",
      "https://www.springboard.com/blog/wp-content/uploads/2022/03/data-structures.jpg\n",
      "https://www.springboard.com/blog/wp-content/uploads/2022/03/computer-science-fundamentals.jpg\n",
      "https://www.springboard.com/blog/wp-content/uploads/2022/03/data-manipulation.jpg\n",
      "https://www.springboard.com/blog/wp-content/uploads/2022/03/automated-programming-2.jpg\n",
      "https://res.cloudinary.com/springboard-images/image/upload/v1626100725/Student%20Success/Esme_Gaisford_397x397.png\n",
      "https://res.cloudinary.com/springboard-images/image/upload/v1626100718/Student%20Success/Aaron_Pujanandez_397x397.png\n",
      "https://res.cloudinary.com/springboard-images/image/upload/v1626100724/Student%20Success/Isabel_van_Zijl_397x397.png\n",
      "https://www.springboard.com/blog/wp-content/uploads/2022/03/machine-learning-engineering.jpg\n",
      "https://www.springboard.com/blog/wp-content/uploads/2022/03/data-scientist.jpg\n",
      "https://www.springboard.com/blog/wp-content/uploads/2022/03/data-engineer.jpg\n",
      "https://www.springboard.com/blog/wp-content/uploads/2022/03/work-on-ai-projects.jpg\n",
      "https://www.springboard.com/blog/wp-content/uploads/2022/03/learn-and-work-with-ai-tools.jpg\n",
      "https://www.springboard.com/blog/wp-content/uploads/2022/03/learn-ai.png\n",
      "https://www.springboard.com/blog/wp-content/uploads/2022/03/get-a-job.jpg\n",
      "https://www.springboard.com/blog/wp-content/uploads/2022/03/can-a-fresher-learn-ai.jpg\n",
      "https://secure.gravatar.com/avatar/b71837a7e5662c0d6168f35c4fbfc043?s=128&d=mm&r=g\n",
      "https://www.springboard.com/blog/wp-content/uploads/2018/11/SB-blog-python-380x235.png\n",
      "https://www.springboard.com/blog/wp-content/uploads/2021/05/How-to-Impress-a-Data-Science-Hiring-Manager-scaled-380x235.jpg\n",
      "https://www.springboard.com/blog/wp-content/uploads/2016/03/food-380x235.jpg\n",
      "https://q.quora.com/_/ad/f34cb9d6c6214cb3931ee3d131a4cb97/pixel?tag=ViewContent&noscript=1\n"
     ]
    }
   ],
   "source": [
    "import requests \n",
    "from bs4 import BeautifulSoup \n",
    "    \n",
    "def image(url): \n",
    "    r = requests.get(url) \n",
    "    return r.text \n",
    "    \n",
    "htmldata = image(\"https://www.springboard.com/blog/data-science/how-to-learn-ai/\") \n",
    "soup = BeautifulSoup(htmldata, 'html.parser') \n",
    "for item in soup.find_all('img'):\n",
    "    print(item['src'])"
   ]
  },
  {
   "cell_type": "markdown",
   "id": "51dfa8f5",
   "metadata": {},
   "source": [
    "Task 3:All youtube subscription"
   ]
  },
  {
   "cell_type": "code",
   "execution_count": 22,
   "id": "f70d46e9",
   "metadata": {},
   "outputs": [],
   "source": [
    "import csv"
   ]
  },
  {
   "cell_type": "code",
   "execution_count": 34,
   "id": "497d33c0",
   "metadata": {},
   "outputs": [
    {
     "name": "stdout",
     "output_type": "stream",
     "text": [
      "[]\n"
     ]
    }
   ],
   "source": [
    "csvfile = open('Youtube_scrape','w',encoding='utf-8')\n",
    "writer = csv.writer(csvfile)\n",
    "writer.writerow(['Name','Link'])\n",
    "artcile = soup.find_all('')\n",
    "print(artcile)\n",
    "for i in artcile:\n",
    "    summary = i.find('div',class_ = \"style_scope\").p.text\n",
    "    link=\"None\"\n",
    "    try:\n",
    "        vid = i.find('iframe',class_=\"gstl_50 sbdd_c\")['scr']\n",
    "        vid_id=vid.split('/')\n",
    "        video=vid_id.split('?')\n",
    "        c=video[0]\n",
    "        link=f'https://www.youtube.com/feed/channels{c}'\n",
    "    except Exception as e:\n",
    "        link = \"No link\"\n",
    "    writer.writerow([Name,link])\n",
    "csvfile.close()"
   ]
  },
  {
   "cell_type": "code",
   "execution_count": null,
   "id": "ebb2cd09",
   "metadata": {},
   "outputs": [],
   "source": []
  }
 ],
 "metadata": {
  "kernelspec": {
   "display_name": "Python 3 (ipykernel)",
   "language": "python",
   "name": "python3"
  },
  "language_info": {
   "codemirror_mode": {
    "name": "ipython",
    "version": 3
   },
   "file_extension": ".py",
   "mimetype": "text/x-python",
   "name": "python",
   "nbconvert_exporter": "python",
   "pygments_lexer": "ipython3",
   "version": "3.9.7"
  }
 },
 "nbformat": 4,
 "nbformat_minor": 5
}
