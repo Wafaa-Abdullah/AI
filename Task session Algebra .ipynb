{
 "cells": [
  {
   "cell_type": "markdown",
   "id": "3d06f103",
   "metadata": {},
   "source": [
    "Task 1: How to convert any non linear equation to linear equation ?"
   ]
  },
  {
   "cell_type": "markdown",
   "id": "bb30c865",
   "metadata": {},
   "source": [
    "we need to take the equation into the form of y=mx+c\n",
    "for example\n",
    "y=ax^2+b\n",
    "put Y=y and X=x^2\n",
    "Y=aX+b \n",
    "The relation will be between x^2 in the x-axis and y in the y-axis"
   ]
  },
  {
   "cell_type": "markdown",
   "id": "65939db9",
   "metadata": {},
   "source": [
    "Task 2: What is PCA ?"
   ]
  },
  {
   "cell_type": "markdown",
   "id": "90a3a3ec",
   "metadata": {},
   "source": [
    "Principal Component Analysis, is a dimensionality-reduction method that is often used to reduce the dimensionality of large data sets, by transforming a large set of variables into a smaller one that still contains most of the information in the large set"
   ]
  },
  {
   "cell_type": "markdown",
   "id": "6d5d727a",
   "metadata": {},
   "source": [
    "Task 3 : AI framwork with c++"
   ]
  },
  {
   "cell_type": "markdown",
   "id": "64d45120",
   "metadata": {},
   "source": [
    "1: TensorFlow\n",
    "2: Caffe from Berkeley\n",
    "3: Microsoft Cognitive Toolkit (CNTK)\n",
    "4: mlpack Library\n",
    "5: SHARK Library\n",
    "6: Armadillo\n",
    "7: Faisis\n",
    "8: OpenNN\n",
    "9: FANN\n",
    "10: Boosting"
   ]
  }
 ],
 "metadata": {
  "kernelspec": {
   "display_name": "Python 3 (ipykernel)",
   "language": "python",
   "name": "python3"
  },
  "language_info": {
   "codemirror_mode": {
    "name": "ipython",
    "version": 3
   },
   "file_extension": ".py",
   "mimetype": "text/x-python",
   "name": "python",
   "nbconvert_exporter": "python",
   "pygments_lexer": "ipython3",
   "version": "3.9.7"
  }
 },
 "nbformat": 4,
 "nbformat_minor": 5
}
